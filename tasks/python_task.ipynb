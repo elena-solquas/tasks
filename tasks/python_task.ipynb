{
 "cells": [
  {
   "metadata": {},
   "cell_type": "markdown",
   "source": "# Parsing",
   "id": "1488547efa3a1d1e"
  },
  {
   "metadata": {},
   "cell_type": "markdown",
   "source": [
    "Points to clarify:\n",
    "* Is empty 'contracts' field a valid case and what does it mean if it is null? For now, we will assume it is a valid case and we handle it as -3.\n",
    "* Is it possible that 'day_sinlastloan' is negative number? For now, we assume that it is possible and might mean that the loan period ends in the future.\n",
    "* If date is in an invalid format we assume that we should not take into consideration such dates and we will handle it as -3.\n",
    "* If the 'claim_date' field is null we assume that we should not take into consideration such claims.\n",
    "* If the 'loan_summa' is null we assume that we should not take into consideration such loans.\n",
    "* If the 'contract_date' is null we assume that we should not take into consideration such loans.\n"
   ],
   "id": "bc90709a536b40f9"
  },
  {
   "metadata": {},
   "cell_type": "markdown",
   "source": [
    "Notes:\n",
    "* error_log.csv file should be substituted with logging module in production code."
   ],
   "id": "109799405491ca26"
  },
  {
   "metadata": {
    "ExecuteTime": {
     "end_time": "2025-01-30T16:28:51.027900Z",
     "start_time": "2025-01-30T16:28:51.023645Z"
    }
   },
   "cell_type": "code",
   "source": [
    "import pandas as pd\n",
    "import json\n",
    "import math\n",
    "from datetime import timezone\n",
    "from dateutil import parser"
   ],
   "id": "92e8af63c48b9829",
   "outputs": [],
   "execution_count": 2
  },
  {
   "metadata": {
    "ExecuteTime": {
     "end_time": "2025-01-30T16:28:52.319021Z",
     "start_time": "2025-01-30T16:28:52.260976Z"
    }
   },
   "cell_type": "code",
   "source": [
    "df = pd.read_csv('data.csv')\n",
    "df.head()"
   ],
   "id": "e902267dc51b3452",
   "outputs": [
    {
     "data": {
      "text/plain": [
       "          id                  application_date  \\\n",
       "0  2925210.0  2024-02-12 19:22:46.652000+00:00   \n",
       "1  2925211.0  2024-02-12 19:24:29.135000+00:00   \n",
       "2  2925212.0  2024-02-12 19:24:41.493000+00:00   \n",
       "3  2925213.0  2024-02-12 19:24:29.135000+00:00   \n",
       "4  2925214.0  2024-02-12 19:24:56.857000+00:00   \n",
       "\n",
       "                                           contracts  \n",
       "0                                                NaN  \n",
       "1  [{\"contract_id\": 522530, \"bank\": \"003\", \"summa...  \n",
       "2                                                NaN  \n",
       "3  [{\"contract_id\": 522530, \"bank\": \"003\", \"summa...  \n",
       "4                                                NaN  "
      ],
      "text/html": [
       "<div>\n",
       "<style scoped>\n",
       "    .dataframe tbody tr th:only-of-type {\n",
       "        vertical-align: middle;\n",
       "    }\n",
       "\n",
       "    .dataframe tbody tr th {\n",
       "        vertical-align: top;\n",
       "    }\n",
       "\n",
       "    .dataframe thead th {\n",
       "        text-align: right;\n",
       "    }\n",
       "</style>\n",
       "<table border=\"1\" class=\"dataframe\">\n",
       "  <thead>\n",
       "    <tr style=\"text-align: right;\">\n",
       "      <th></th>\n",
       "      <th>id</th>\n",
       "      <th>application_date</th>\n",
       "      <th>contracts</th>\n",
       "    </tr>\n",
       "  </thead>\n",
       "  <tbody>\n",
       "    <tr>\n",
       "      <th>0</th>\n",
       "      <td>2925210.0</td>\n",
       "      <td>2024-02-12 19:22:46.652000+00:00</td>\n",
       "      <td>NaN</td>\n",
       "    </tr>\n",
       "    <tr>\n",
       "      <th>1</th>\n",
       "      <td>2925211.0</td>\n",
       "      <td>2024-02-12 19:24:29.135000+00:00</td>\n",
       "      <td>[{\"contract_id\": 522530, \"bank\": \"003\", \"summa...</td>\n",
       "    </tr>\n",
       "    <tr>\n",
       "      <th>2</th>\n",
       "      <td>2925212.0</td>\n",
       "      <td>2024-02-12 19:24:41.493000+00:00</td>\n",
       "      <td>NaN</td>\n",
       "    </tr>\n",
       "    <tr>\n",
       "      <th>3</th>\n",
       "      <td>2925213.0</td>\n",
       "      <td>2024-02-12 19:24:29.135000+00:00</td>\n",
       "      <td>[{\"contract_id\": 522530, \"bank\": \"003\", \"summa...</td>\n",
       "    </tr>\n",
       "    <tr>\n",
       "      <th>4</th>\n",
       "      <td>2925214.0</td>\n",
       "      <td>2024-02-12 19:24:56.857000+00:00</td>\n",
       "      <td>NaN</td>\n",
       "    </tr>\n",
       "  </tbody>\n",
       "</table>\n",
       "</div>"
      ]
     },
     "execution_count": 3,
     "metadata": {},
     "output_type": "execute_result"
    }
   ],
   "execution_count": 3
  },
  {
   "metadata": {
    "ExecuteTime": {
     "end_time": "2025-01-30T16:28:54.435722Z",
     "start_time": "2025-01-30T16:28:54.429263Z"
    }
   },
   "cell_type": "code",
   "source": "df.shape",
   "id": "fdd248eb64920865",
   "outputs": [
    {
     "data": {
      "text/plain": [
       "(1000, 3)"
      ]
     },
     "execution_count": 4,
     "metadata": {},
     "output_type": "execute_result"
    }
   ],
   "execution_count": 4
  },
  {
   "metadata": {
    "ExecuteTime": {
     "end_time": "2025-01-30T16:28:54.773334Z",
     "start_time": "2025-01-30T16:28:54.766189Z"
    }
   },
   "cell_type": "code",
   "source": "df.isna().sum()",
   "id": "3728a3c06c0fc3e7",
   "outputs": [
    {
     "data": {
      "text/plain": [
       "id                    0\n",
       "application_date      0\n",
       "contracts           505\n",
       "dtype: int64"
      ]
     },
     "execution_count": 5,
     "metadata": {},
     "output_type": "execute_result"
    }
   ],
   "execution_count": 5
  },
  {
   "metadata": {
    "ExecuteTime": {
     "end_time": "2025-01-30T16:28:55.234796Z",
     "start_time": "2025-01-30T16:28:55.181599Z"
    }
   },
   "cell_type": "code",
   "source": [
    "df['contracts'] = df['contracts'].apply(lambda x: json.loads(x) if not pd.isna(x) else x)\n",
    "df.info()"
   ],
   "id": "992dc53edb37e4c8",
   "outputs": [
    {
     "name": "stdout",
     "output_type": "stream",
     "text": [
      "<class 'pandas.core.frame.DataFrame'>\n",
      "RangeIndex: 1000 entries, 0 to 999\n",
      "Data columns (total 3 columns):\n",
      " #   Column            Non-Null Count  Dtype  \n",
      "---  ------            --------------  -----  \n",
      " 0   id                1000 non-null   float64\n",
      " 1   application_date  1000 non-null   object \n",
      " 2   contracts         495 non-null    object \n",
      "dtypes: float64(1), object(2)\n",
      "memory usage: 23.6+ KB\n"
     ]
    }
   ],
   "execution_count": 6
  },
  {
   "metadata": {
    "ExecuteTime": {
     "end_time": "2025-01-30T16:28:55.464757Z",
     "start_time": "2025-01-30T16:28:55.441953Z"
    }
   },
   "cell_type": "code",
   "source": [
    "ERROR_LOG = pd.DataFrame(columns=['value', 'error'])\n",
    "\n",
    "def ensure_datetime_aware(dt_str):\n",
    "    \"\"\"Parses a datetime string and ensures it's timezone-aware (UTC).\n",
    "\n",
    "    Automatically detects the format and converts it to UTC.\n",
    "    If the datetime is naive, it assumes it's in UTC.\n",
    "    \"\"\"\n",
    "    dt = parser.parse(dt_str)\n",
    "    if dt.tzinfo is None:\n",
    "        dt = dt.replace(tzinfo=timezone.utc)\n",
    "    return dt.astimezone(timezone.utc)\n",
    "\n",
    "def calc_tot_claim_cnt_l180d(contracts, application_date):\n",
    "    \"\"\"Calculates the number of claims for the last 180 days.\"\"\"\n",
    "    if not contracts or (isinstance(contracts, float) and math.isnan(contracts)):\n",
    "        return -3\n",
    "\n",
    "    try:\n",
    "        application_date = ensure_datetime_aware(application_date)\n",
    "    except Exception as invalid_application_date_error:\n",
    "        ERROR_LOG.append({'value': application_date, 'error': invalid_application_date_error})\n",
    "\n",
    "        return -3\n",
    "\n",
    "    claim_count = 0\n",
    "\n",
    "    for contract in contracts:\n",
    "        if not contract or not isinstance(contract, dict):\n",
    "            continue\n",
    "        \n",
    "        claim_date = contract.get('claim_date')\n",
    "        if claim_date and isinstance(claim_date, str):\n",
    "            try:\n",
    "                claim_date = ensure_datetime_aware(claim_date)\n",
    "                if (application_date - claim_date).days <= 180:\n",
    "                    claim_count += 1\n",
    "            except Exception as invalid_claim_date_error:\n",
    "                ERROR_LOG.append({'value': application_date, 'error': invalid_claim_date_error})\n",
    "\n",
    "                continue\n",
    "    \n",
    "    return claim_count if claim_count > 0 else -3\n",
    "\n",
    "def calc_disb_bank_loan_wo_tbc(contracts):\n",
    "    \"\"\"Calculates the sum of loans without TBC loans.\"\"\"\n",
    "    if not contracts or (isinstance(contracts, float) and math.isnan(contracts)):\n",
    "        return -1\n",
    "    \n",
    "    excluded_banks = ['LIZ', 'LOM', 'MKO', 'SUG']\n",
    "    total_exposure = 0\n",
    "    has_loans = False\n",
    "\n",
    "    for contract in contracts:\n",
    "        if not contract or not isinstance(contract, dict):\n",
    "            continue\n",
    "        \n",
    "        bank = contract.get('bank')\n",
    "        loan_summa = contract.get('loan_summa')\n",
    "        contract_date = contract.get('contract_date')\n",
    "        \n",
    "        if bank in excluded_banks or bank is None or (isinstance(bank, float) and math.isnan(bank)):\n",
    "            continue\n",
    "        \n",
    "        if contract_date is None or (isinstance(contract_date, float) and math.isnan(contract_date)):\n",
    "            continue\n",
    "        if not loan_summa or (isinstance(loan_summa, str) and not loan_summa.strip()):\n",
    "            continue\n",
    "\n",
    "        try:\n",
    "            total_exposure += float(loan_summa)\n",
    "            has_loans = True\n",
    "        except (ValueError, TypeError) as invalid_loan_summa_error:\n",
    "            ERROR_LOG.append({'value': loan_summa, 'error': invalid_loan_summa_error})\n",
    "            \n",
    "            continue\n",
    "\n",
    "    if not has_loans:\n",
    "        return -1\n",
    "    return total_exposure if total_exposure > 0 else -3\n",
    "\n",
    "def calc_days_since_lastloan(contracts, application_date):\n",
    "    \"\"\"Calculates the number of days since the last loan.\"\"\"\n",
    "    if not contracts or (isinstance(contracts, float) and math.isnan(contracts)):\n",
    "        return -1\n",
    "\n",
    "    try:\n",
    "        application_date = ensure_datetime_aware(application_date)\n",
    "    except Exception as invalid_application_date_error:\n",
    "        ERROR_LOG.append({'value': application_date, 'error': invalid_application_date_error})\n",
    "        \n",
    "        return -3\n",
    "\n",
    "    last_loan_date = None\n",
    "\n",
    "    for contract in contracts:\n",
    "        if not contract or not isinstance(contract, dict):\n",
    "            continue\n",
    "\n",
    "        contract_date = contract.get('contract_date')\n",
    "        summa = contract.get('summa')\n",
    "        \n",
    "        if not contract_date or (isinstance(contract_date, str) and not contract_date.strip()):\n",
    "            continue\n",
    "        if not summa or (isinstance(summa, str) and not summa.strip()):\n",
    "            continue\n",
    "\n",
    "        try:\n",
    "            contract_date = ensure_datetime_aware(contract_date)\n",
    "            if last_loan_date is None or contract_date > last_loan_date:\n",
    "                last_loan_date = contract_date\n",
    "        except Exception as invalid_contract_date_error:\n",
    "            ERROR_LOG.append({'value': contract_date, 'error': invalid_contract_date_error})\n",
    "            \n",
    "            continue\n",
    "\n",
    "    if last_loan_date:\n",
    "        return (application_date - last_loan_date).days\n",
    "    return -3 if any(contract.get('summa') for contract in contracts if isinstance(contract, dict)) else -1"
   ],
   "id": "43bb4f574f3d9be7",
   "outputs": [],
   "execution_count": 7
  },
  {
   "metadata": {
    "ExecuteTime": {
     "end_time": "2025-01-30T16:28:57.121626Z",
     "start_time": "2025-01-30T16:28:55.777097Z"
    }
   },
   "cell_type": "code",
   "source": [
    "df['tot_claim_cnt_l180d'] = df.apply(lambda row: calc_tot_claim_cnt_l180d(row['contracts'], row['application_date']), axis=1)\n",
    "df['disb_bank_loan_wo_tbc'] = df.apply(lambda row: calc_disb_bank_loan_wo_tbc(row['contracts']), axis=1)\n",
    "df['day_sinlastloan'] = df.apply(lambda row: calc_days_since_lastloan(row['contracts'], row['application_date']), axis=1)\n",
    "\n",
    "ERROR_LOG.to_csv('error_log.csv', index=False)"
   ],
   "id": "e449aa65a55993c2",
   "outputs": [],
   "execution_count": 8
  },
  {
   "metadata": {
    "ExecuteTime": {
     "end_time": "2025-01-30T16:28:57.133758Z",
     "start_time": "2025-01-30T16:28:57.124646Z"
    }
   },
   "cell_type": "code",
   "source": [
    "contract_features = df[['id','application_date', 'tot_claim_cnt_l180d', 'disb_bank_loan_wo_tbc', 'day_sinlastloan']]\n",
    "contract_features.shape"
   ],
   "id": "3353e0df38d7c284",
   "outputs": [
    {
     "data": {
      "text/plain": [
       "(1000, 5)"
      ]
     },
     "execution_count": 9,
     "metadata": {},
     "output_type": "execute_result"
    }
   ],
   "execution_count": 9
  },
  {
   "metadata": {
    "ExecuteTime": {
     "end_time": "2025-01-30T16:28:57.156534Z",
     "start_time": "2025-01-30T16:28:57.135774Z"
    }
   },
   "cell_type": "code",
   "source": [
    "contract_features.to_csv('contract_features.csv', index=False)\n",
    "contract_features.head()"
   ],
   "id": "94b1a6e07ace9f3f",
   "outputs": [
    {
     "data": {
      "text/plain": [
       "          id                  application_date  tot_claim_cnt_l180d  \\\n",
       "0  2925210.0  2024-02-12 19:22:46.652000+00:00                   -3   \n",
       "1  2925211.0  2024-02-12 19:24:29.135000+00:00                   60   \n",
       "2  2925212.0  2024-02-12 19:24:41.493000+00:00                   -3   \n",
       "3  2925213.0  2024-02-12 19:24:29.135000+00:00                   60   \n",
       "4  2925214.0  2024-02-12 19:24:56.857000+00:00                   -3   \n",
       "\n",
       "   disb_bank_loan_wo_tbc  day_sinlastloan  \n",
       "0                   -1.0               -1  \n",
       "1                   -1.0              427  \n",
       "2                   -1.0               -1  \n",
       "3                   -1.0              427  \n",
       "4                   -1.0               -1  "
      ],
      "text/html": [
       "<div>\n",
       "<style scoped>\n",
       "    .dataframe tbody tr th:only-of-type {\n",
       "        vertical-align: middle;\n",
       "    }\n",
       "\n",
       "    .dataframe tbody tr th {\n",
       "        vertical-align: top;\n",
       "    }\n",
       "\n",
       "    .dataframe thead th {\n",
       "        text-align: right;\n",
       "    }\n",
       "</style>\n",
       "<table border=\"1\" class=\"dataframe\">\n",
       "  <thead>\n",
       "    <tr style=\"text-align: right;\">\n",
       "      <th></th>\n",
       "      <th>id</th>\n",
       "      <th>application_date</th>\n",
       "      <th>tot_claim_cnt_l180d</th>\n",
       "      <th>disb_bank_loan_wo_tbc</th>\n",
       "      <th>day_sinlastloan</th>\n",
       "    </tr>\n",
       "  </thead>\n",
       "  <tbody>\n",
       "    <tr>\n",
       "      <th>0</th>\n",
       "      <td>2925210.0</td>\n",
       "      <td>2024-02-12 19:22:46.652000+00:00</td>\n",
       "      <td>-3</td>\n",
       "      <td>-1.0</td>\n",
       "      <td>-1</td>\n",
       "    </tr>\n",
       "    <tr>\n",
       "      <th>1</th>\n",
       "      <td>2925211.0</td>\n",
       "      <td>2024-02-12 19:24:29.135000+00:00</td>\n",
       "      <td>60</td>\n",
       "      <td>-1.0</td>\n",
       "      <td>427</td>\n",
       "    </tr>\n",
       "    <tr>\n",
       "      <th>2</th>\n",
       "      <td>2925212.0</td>\n",
       "      <td>2024-02-12 19:24:41.493000+00:00</td>\n",
       "      <td>-3</td>\n",
       "      <td>-1.0</td>\n",
       "      <td>-1</td>\n",
       "    </tr>\n",
       "    <tr>\n",
       "      <th>3</th>\n",
       "      <td>2925213.0</td>\n",
       "      <td>2024-02-12 19:24:29.135000+00:00</td>\n",
       "      <td>60</td>\n",
       "      <td>-1.0</td>\n",
       "      <td>427</td>\n",
       "    </tr>\n",
       "    <tr>\n",
       "      <th>4</th>\n",
       "      <td>2925214.0</td>\n",
       "      <td>2024-02-12 19:24:56.857000+00:00</td>\n",
       "      <td>-3</td>\n",
       "      <td>-1.0</td>\n",
       "      <td>-1</td>\n",
       "    </tr>\n",
       "  </tbody>\n",
       "</table>\n",
       "</div>"
      ]
     },
     "execution_count": 10,
     "metadata": {},
     "output_type": "execute_result"
    }
   ],
   "execution_count": 10
  },
  {
   "metadata": {},
   "cell_type": "markdown",
   "source": "",
   "id": "c1278e14aad12d"
  }
 ],
 "metadata": {
  "kernelspec": {
   "display_name": "Python 3",
   "language": "python",
   "name": "python3"
  },
  "language_info": {
   "codemirror_mode": {
    "name": "ipython",
    "version": 2
   },
   "file_extension": ".py",
   "mimetype": "text/x-python",
   "name": "python",
   "nbconvert_exporter": "python",
   "pygments_lexer": "ipython2",
   "version": "2.7.6"
  }
 },
 "nbformat": 4,
 "nbformat_minor": 5
}
